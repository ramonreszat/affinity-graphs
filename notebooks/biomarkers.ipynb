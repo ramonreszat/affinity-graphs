{
 "cells": [
  {
   "cell_type": "markdown",
   "metadata": {},
   "source": [
    "# Biomarker Evaluation on Multi-Omics Data"
   ]
  },
  {
   "cell_type": "code",
   "execution_count": 1,
   "metadata": {},
   "outputs": [],
   "source": [
    "import pickle\n",
    "import numpy as np\n",
    "import pandas as pd\n",
    "\n",
    "import networkx as nx\n",
    "\n",
    "from scipy.stats import ttest_ind\n",
    "from scipy.stats import rankdata\n",
    "\n",
    "import seaborn as sns\n",
    "import matplotlib.pyplot as plt\n",
    "\n",
    "sns.set(style=\"whitegrid\")"
   ]
  },
  {
   "cell_type": "markdown",
   "metadata": {},
   "source": [
    "## 1. Drug Sensitivity Dataset"
   ]
  },
  {
   "cell_type": "code",
   "execution_count": 2,
   "metadata": {},
   "outputs": [],
   "source": [
    "# potential hits for effectivity screening\n",
    "drugs = pd.read_csv('../data/drugs.csv')\n",
    "# set CCLE id as index\n",
    "drugs = drugs.set_index(drugs.ccl_name)\n",
    "# use the area under the drug sensitivity curve (AUC)\n",
    "sensitivity = drugs.pivot_table(values='area_under_curve', index=drugs.index, columns='cpd_name', aggfunc='first')"
   ]
  },
  {
   "cell_type": "markdown",
   "metadata": {},
   "source": [
    "## 2. Apply Clustering\n",
    "Execute the clustering tasks based on the multi-omics profiles of the cells."
   ]
  },
  {
   "cell_type": "code",
   "execution_count": 3,
   "metadata": {},
   "outputs": [],
   "source": [
    "A = nx.read_gexf('../graphs/fused_affinity_network_K=20_alpha=0.1667_beta=0.1667_t=2.gexf')"
   ]
  },
  {
   "cell_type": "code",
   "execution_count": 4,
   "metadata": {},
   "outputs": [],
   "source": [
    "sites = ['LUNG']"
   ]
  },
  {
   "cell_type": "code",
   "execution_count": 5,
   "metadata": {},
   "outputs": [],
   "source": [
    "# select the lung cancer subgraph of the affinity network\n",
    "selected_nodes = [n for n,v in A.nodes(data=True) if v['primary_site'] in sites]\n",
    "H = A.subgraph(selected_nodes)\n",
    "\n",
    "# create a sparse representation of the network by deleting edges\n",
    "selected_edges = [(u,v) for u,v,e in H.edges(data=True) if e['weight'] >= 0.0]\n",
    "G = H.edge_subgraph(selected_edges)"
   ]
  },
  {
   "cell_type": "code",
   "execution_count": 6,
   "metadata": {},
   "outputs": [],
   "source": [
    "y = pd.DataFrame.from_dict(dict(G.nodes(data=True)), orient='index')\n",
    "y = y[y.ccle_hist_subtype_1.isin([\"adenocarcinoma\", \"small_cell_carcinoma\"])]"
   ]
  },
  {
   "cell_type": "code",
   "execution_count": 59,
   "metadata": {},
   "outputs": [],
   "source": [
    "from scipy.sparse import csr_matrix\n",
    "\n",
    "W = nx.to_pandas_adjacency(G)\n",
    "W = W[y.index.values].T[y.index.values]\n",
    "X = csr_matrix(W, dtype=np.float64)"
   ]
  },
  {
   "cell_type": "code",
   "execution_count": 51,
   "metadata": {},
   "outputs": [
    {
     "data": {
      "text/plain": [
       "KMeans(n_clusters=2, embedding_method=GSVD(n_components=2, regularization=None, factor_row=0.5, factor_col=0.5, factor_singular=0.0, normalized=False, solver=LanczosSVD(n_iter=None, tol=0.0)), co_cluster=False, sort_clusters=True, return_membership=True, return_aggregate=True)"
      ]
     },
     "execution_count": 51,
     "metadata": {},
     "output_type": "execute_result"
    }
   ],
   "source": [
    "# load paramters for unsupervised k-means clustering algorithm\n",
    "kmeans = pickle.load(open(\"../models/kmeans_carcinoma_AC-DC.joblib\", 'rb'))\n",
    "kmeans"
   ]
  },
  {
   "cell_type": "code",
   "execution_count": 39,
   "metadata": {},
   "outputs": [
    {
     "data": {
      "text/plain": [
       "<85x85 sparse matrix of type '<class 'numpy.float64'>'\n",
       "\twith 6977 stored elements in Compressed Sparse Row format>"
      ]
     },
     "execution_count": 39,
     "metadata": {},
     "output_type": "execute_result"
    }
   ],
   "source": [
    "X"
   ]
  },
  {
   "cell_type": "code",
   "execution_count": 52,
   "metadata": {},
   "outputs": [],
   "source": [
    "# apply clustering from k-means model\n",
    "y['multi-omics'] = kmeans.fit_transform(X)"
   ]
  },
  {
   "cell_type": "code",
   "execution_count": null,
   "metadata": {},
   "outputs": [],
   "source": [
    "subtype = y.groupby(['ccle_hist_subtype_1'])['label'].apply(list)\n",
    "clustering = y.groupby(['prediction'])['label'].apply(list)"
   ]
  },
  {
   "cell_type": "markdown",
   "metadata": {},
   "source": [
    "## 3. Drug Screening\n",
    "\n",
    "Use the t-test for statistical inference of two independent groups of samples. As a null hypotheses we assume that the expected sensitivity of all drugs is the same accross the two groups.\n",
    "\n",
    "$$H_0: \\mu_1 = \\mu_2$$"
   ]
  },
  {
   "cell_type": "code",
   "execution_count": 21,
   "metadata": {},
   "outputs": [],
   "source": [
    "resistant = sensitivity.loc[clustering.loc[0]]\n",
    "sensitive = sensitivity.loc[clustering.loc[1]]\n",
    "\n",
    "resistant = np.nan_to_num(resistant, nan=np.nanmean(resistant))\n",
    "sensitive = np.nan_to_num(sensitive, nan=np.nanmean(sensitive))"
   ]
  },
  {
   "cell_type": "code",
   "execution_count": 12,
   "metadata": {},
   "outputs": [],
   "source": [
    "resistant = sensitivity.loc[subtype.loc['adenocarcinoma']]\n",
    "sensitive = sensitivity.loc[subtype.loc['small_cell_carcinoma']]\n",
    "\n",
    "resistant = np.nan_to_num(resistant, nan=np.nanmean(resistant))\n",
    "sensitive = np.nan_to_num(sensitive, nan=np.nanmean(sensitive))"
   ]
  },
  {
   "cell_type": "code",
   "execution_count": 13,
   "metadata": {},
   "outputs": [],
   "source": [
    "# assume drug resistance for the first group\n",
    "p_values = ttest_ind(a=resistant, b=sensitive, equal_var=False).pvalue\n",
    "logfoldchange = np.log2(resistant.mean(axis=0)/sensitive.mean(axis=0))"
   ]
  },
  {
   "cell_type": "markdown",
   "metadata": {},
   "source": [
    "Use the Benjamini-Hochberg procedure to correct for multi-hypothesis testing. The p-values will be adjusted with the false discovery rate (FDR) as follows.\n",
    "\n",
    "$$q=min(R_j), j \\geq i \\ where \\ R_i = \\frac{p_i n}{i}$$"
   ]
  },
  {
   "cell_type": "code",
   "execution_count": 14,
   "metadata": {},
   "outputs": [],
   "source": [
    "from scipy.stats import rankdata\n",
    "\n",
    "# false-discovery rate (Benjamini-Hochberg)\n",
    "ranked_p_values = rankdata(p_values)\n",
    "adjusted = p_values * len(p_values) / ranked_p_values\n",
    "\n",
    "adjusted[adjusted > 1] = 1"
   ]
  },
  {
   "cell_type": "code",
   "execution_count": 15,
   "metadata": {},
   "outputs": [
    {
     "data": {
      "text/html": [
       "<div>\n",
       "<style scoped>\n",
       "    .dataframe tbody tr th:only-of-type {\n",
       "        vertical-align: middle;\n",
       "    }\n",
       "\n",
       "    .dataframe tbody tr th {\n",
       "        vertical-align: top;\n",
       "    }\n",
       "\n",
       "    .dataframe thead th {\n",
       "        text-align: right;\n",
       "    }\n",
       "</style>\n",
       "<table border=\"1\" class=\"dataframe\">\n",
       "  <thead>\n",
       "    <tr style=\"text-align: right;\">\n",
       "      <th></th>\n",
       "      <th>cpd_name</th>\n",
       "      <th>log2_fc</th>\n",
       "      <th>p_value</th>\n",
       "      <th>q_adjusted</th>\n",
       "    </tr>\n",
       "  </thead>\n",
       "  <tbody>\n",
       "    <tr>\n",
       "      <th>0</th>\n",
       "      <td>16-beta-bromoandrosterone</td>\n",
       "      <td>0.086354</td>\n",
       "      <td>0.003037</td>\n",
       "      <td>0.009044</td>\n",
       "    </tr>\n",
       "    <tr>\n",
       "      <th>1</th>\n",
       "      <td>1S,3R-RSL-3</td>\n",
       "      <td>0.085398</td>\n",
       "      <td>0.525118</td>\n",
       "      <td>0.588866</td>\n",
       "    </tr>\n",
       "    <tr>\n",
       "      <th>2</th>\n",
       "      <td>3-Cl-AHPC</td>\n",
       "      <td>0.116526</td>\n",
       "      <td>0.021727</td>\n",
       "      <td>0.040691</td>\n",
       "    </tr>\n",
       "    <tr>\n",
       "      <th>3</th>\n",
       "      <td>968</td>\n",
       "      <td>0.066473</td>\n",
       "      <td>0.010826</td>\n",
       "      <td>0.022869</td>\n",
       "    </tr>\n",
       "    <tr>\n",
       "      <th>4</th>\n",
       "      <td>A-804598</td>\n",
       "      <td>0.057385</td>\n",
       "      <td>0.074920</td>\n",
       "      <td>0.114374</td>\n",
       "    </tr>\n",
       "  </tbody>\n",
       "</table>\n",
       "</div>"
      ],
      "text/plain": [
       "                    cpd_name   log2_fc   p_value  q_adjusted\n",
       "0  16-beta-bromoandrosterone  0.086354  0.003037    0.009044\n",
       "1                1S,3R-RSL-3  0.085398  0.525118    0.588866\n",
       "2                  3-Cl-AHPC  0.116526  0.021727    0.040691\n",
       "3                        968  0.066473  0.010826    0.022869\n",
       "4                   A-804598  0.057385  0.074920    0.114374"
      ]
     },
     "execution_count": 15,
     "metadata": {},
     "output_type": "execute_result"
    }
   ],
   "source": [
    "efficacy = pd.DataFrame({'cpd_name': sensitivity.columns.values, 'log2_fc': logfoldchange, 'p_value': p_values, 'q_adjusted':adjusted})\n",
    "efficacy.head()"
   ]
  },
  {
   "cell_type": "code",
   "execution_count": 20,
   "metadata": {},
   "outputs": [
    {
     "data": {
      "image/png": "[encoded data removed]",
      "text/plain": [
       "<Figure size 432x288 with 1 Axes>"
      ]
     },
     "metadata": {
      "needs_background": "light"
     },
     "output_type": "display_data"
    }
   ],
   "source": [
    "import warnings\n",
    "warnings.filterwarnings('ignore')\n",
    "\n",
    "plt.title('Lung Carcioma - Clustering')\n",
    "plt.scatter(efficacy.log2_fc, -np.log10(efficacy.q_adjusted))\n",
    "\n",
    "for i, label in enumerate(sensitivity.columns.values):\n",
    "    if (((logfoldchange[i] > 0.4) | (logfoldchange[i] < -0.40)) & (-np.log10(efficacy.q_adjusted[i]) > 4)):\n",
    "        plt.annotate(label, (efficacy.log2_fc[i], -np.log10(efficacy.q_adjusted[i])))\n",
    "\n",
    "plt.axvline(x=0.2, color='k', linestyle='--')\n",
    "plt.axvline(x=-0.2, color='k', linestyle='--')\n",
    "\n",
    "plt.axhline(y=4, color='k', linestyle='--')\n",
    "\n",
    "plt.ylabel('-log10(Pvalue)')\n",
    "plt.xlabel('logFC')\n",
    "plt.show()"
   ]
  },
  {
   "cell_type": "markdown",
   "metadata": {},
   "source": [
    "## 4. Multi-Omics Biomarker\n",
    "\n",
    "Design a biomarker from the fused multi-omics network."
   ]
  },
  {
   "cell_type": "code",
   "execution_count": 12,
   "metadata": {},
   "outputs": [
    {
     "data": {
      "text/plain": [
       "prediction\n",
       "0    [HCC827, NCIH1792, NCIH2228, CALU3, NCIH2023, ...\n",
       "1    [NCIH510, NCIH889, NCIH1341, CORL279, NCIH524,...\n",
       "Name: label, dtype: object"
      ]
     },
     "execution_count": 12,
     "metadata": {},
     "output_type": "execute_result"
    }
   ],
   "source": [
    "clustering"
   ]
  },
  {
   "cell_type": "markdown",
   "metadata": {},
   "source": [
    "We use the Welch's t-test to compare the clusters, due to the unequal sample sizes of 45 to 31 cell lines."
   ]
  },
  {
   "cell_type": "code",
   "execution_count": 234,
   "metadata": {},
   "outputs": [
    {
     "name": "stdout",
     "output_type": "stream",
     "text": [
      "p-value annotation legend:\n",
      "      ns: p <= 1.00e+00\n",
      "       *: 1.00e-02 < p <= 5.00e-02\n",
      "      **: 1.00e-03 < p <= 1.00e-02\n",
      "     ***: 1.00e-04 < p <= 1.00e-03\n",
      "    ****: p <= 1.00e-04\n",
      "\n",
      "metabolite_C2 vs. metabolite_C1: t-test independent samples, P_val:3.949e-02 t=2.102e+00\n",
      "microrna_C2 vs. microrna_C1: t-test independent samples, P_val:1.152e-03 t=3.404e+00\n",
      "gene_C2 vs. gene_C1: t-test independent samples, P_val:1.526e-02 t=2.493e+00\n",
      "ground truth_SCLC vs. ground truth_AC: t-test independent samples, P_val:6.478e-05 t=4.276e+00\n",
      "multi-omics_C2 vs. multi-omics_C1: t-test independent samples, P_val:6.686e-06 t=4.907e+00\n"
     ]
    },
    {
     "data": {
      "image/png": "[encoded data removed]",
      "text/plain": [
       "<Figure size 432x288 with 1 Axes>"
      ]
     },
     "metadata": {
      "needs_background": "light"
     },
     "output_type": "display_data"
    }
   ],
   "source": [
    "from statannotations.Annotator import Annotator\n",
    "\n",
    "plt.title('Dasatinib on Lung Cancer type')\n",
    "\n",
    "pairs=[((\"ground truth\", \"AC\"), (\"ground truth\", \"SCLC\")),((\"gene\", \"C1\"), (\"gene\", \"C2\")), ((\"metabolite\", \"C1\"), (\"metabolite\", \"C2\")), ((\"microrna\", \"C1\"), (\"microrna\", \"C2\")), ((\"multi-omics\", \"C1\"), (\"multi-omics\", \"C2\"))]\n",
    "\n",
    "ax = sns.boxplot(x=\"type\",y=\"AUC\",hue='prediction', hue_order=['AC','SCLC','C1','C2'], data=data)\n",
    "\n",
    "annotator = Annotator(ax, pairs, data=data, x=\"type\", hue=\"prediction\", y=\"AUC\")\n",
    "annotator.configure(test='t-test_ind', test_short_name=\"\", loc='inside')\n",
    "\n",
    "plt.ylabel('Drug Resistance (AUC)')\n",
    "plt.xlabel('Omics Technology')\n",
    "annotator.apply_and_annotate()\n",
    "plt.legend([],[], frameon=False)\n",
    "#plt.savefig(\"../figures/dasatinib_lung_cancer_type.png\", dpi=500, bbox_inches='tight')\n",
    "plt.show()"
   ]
  },
  {
   "cell_type": "markdown",
   "metadata": {},
   "source": [
    "Hence, we can compare the clusters on the individual and the fused omics-networks."
   ]
  },
  {
   "cell_type": "markdown",
   "metadata": {},
   "source": []
  }
 ],
 "metadata": {
  "kernelspec": {
   "display_name": "Python 3.9.5 ('thesis')",
   "language": "python",
   "name": "python3"
  },
  "language_info": {
   "codemirror_mode": {
    "name": "ipython",
    "version": 3
   },
   "file_extension": ".py",
   "mimetype": "text/x-python",
   "name": "python",
   "nbconvert_exporter": "python",
   "pygments_lexer": "ipython3",
   "version": "3.9.5"
  },
  "orig_nbformat": 4,
  "vscode": {
   "interpreter": {
    "hash": "3fa26012a0d14011ece34d1a606f1f07bcfa306a637d06f545ff20f3336134b4"
   }
  }
 },
 "nbformat": 4,
 "nbformat_minor": 2
}
