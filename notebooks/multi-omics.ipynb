{
 "cells": [
  {
   "cell_type": "markdown",
   "metadata": {},
   "source": [
    "# Multi-Omics Measurements from Cancer Cells\n",
    "\n",
    "This notebook explores the multi-omics dataset used in my thesis. The Cancer Cell Line Encyclopedia is a public repository of cell lines that are commonly used to study cancer biology. The whole dataset can be downloaded from the [CCLE website](https://sites.broadinstitute.org/ccle/)."
   ]
  },
  {
   "cell_type": "code",
   "execution_count": 1,
   "metadata": {},
   "outputs": [],
   "source": [
    "import numpy as np\n",
    "import pandas as pd\n",
    "import statsmodels.api as sm\n",
    "\n",
    "import seaborn as sns\n",
    "import matplotlib.pyplot as plt"
   ]
  },
  {
   "cell_type": "markdown",
   "metadata": {},
   "source": [
    "## 1. Explaination\n",
    "\n",
    "All of the **omics studies** are based on the same cancer cell samples from the 2019 version of the Cancer Cell Line Encyclopedia. The transciptomics data was obtained using **RNAseq next-level sequencing techniques**. Metabolomics measurements were added to the dataset in a repeated study using **liquid chromatography-mass spectrometry (LC-MS)**. MicroRNA levels were determinded using **quantitative RT-PCR (qPCR)**. All of the following analysis uses these three data types."
   ]
  },
  {
   "cell_type": "code",
   "execution_count": 2,
   "metadata": {},
   "outputs": [],
   "source": [
    "# load gene expression in reads per kilobase million (rpkm) values\n",
    "genes = pd.read_csv('../data/CCLE2019/CCLE_RNAseq_genes_rpkm_20180929.gct', sep='\\t')\n",
    "# load metabolite levels from liquid chromatography-mass spectrometry (LC-MS)\n",
    "metabolites = pd.read_csv('../data/CCLE2019/CCLE_metabolomics_20190502.csv')\n",
    "# load microRNA expression levels from qPCR measurements\n",
    "micrornas = pd.read_csv('../data/CCLE2019/CCLE_miRNA_20181103.gct', sep='\\t')"
   ]
  },
  {
   "cell_type": "markdown",
   "metadata": {},
   "source": [
    "## 2. Data Cleaning"
   ]
  },
  {
   "cell_type": "markdown",
   "metadata": {},
   "source": [
    "We need to pick out the samples, where we have all of the omics information $X^{(v)}$ available. Otherwise, we cannot include them in the combined matrix $W$. Therefore, we search for the cell line ids and check if they are contained in the rows of the tables for all the data types."
   ]
  },
  {
   "cell_type": "code",
   "execution_count": 3,
   "metadata": {},
   "outputs": [],
   "source": [
    "cell_lines = pd.DataFrame(\n",
    "    np.char.split(genes.columns[2:].tolist(), sep='_', maxsplit=1).tolist(),\n",
    "    columns=[\"id\",\"primary_site\"])\n",
    "\n",
    "# filter out cell lines that are not in all of the data frames below\n",
    "cell_lines = cell_lines[(cell_lines.id + '_' + cell_lines.primary_site).isin(metabolites.CCLE_ID)]\n",
    "cell_lines = cell_lines[(cell_lines.id + '_' + cell_lines.primary_site).isin(micrornas.columns)]\n",
    "\n",
    "# The CCLE_ID is split into sample id and primary site\n",
    "cell_lines['CCLE_ID'] = cell_lines.id + \"_\" + cell_lines.primary_site"
   ]
  },
  {
   "cell_type": "markdown",
   "metadata": {},
   "source": [
    "Then we clean the data to have the same $(m \\times n)$ tabular format, where the rows are the $m$ biological samples that we want to integrate and the columns are the $n$ features specific to the individual omics technology."
   ]
  },
  {
   "cell_type": "code",
   "execution_count": 4,
   "metadata": {},
   "outputs": [],
   "source": [
    "genes = genes[np.append((cell_lines.id + '_' + cell_lines.primary_site).values, 'Description')]\n",
    "genes = genes.set_index('Description')\n",
    "genes.index.names = ['Genes']\n",
    "genes = genes.transpose().sort_index()\n",
    "genes.index = genes.index.rename('CCLE_ID')\n",
    "\n",
    "metabolites = metabolites.loc[metabolites['CCLE_ID'].isin((cell_lines.id + '_' + cell_lines.primary_site).values)]\n",
    "metabolites = metabolites.sort_values('CCLE_ID')\n",
    "metabolites = metabolites.set_index('CCLE_ID')\n",
    "del metabolites['DepMap_ID']\n",
    "\n",
    "\n",
    "micrornas = micrornas.drop(columns=['Name']).set_index('Description')\n",
    "micrornas.index.names = ['miRNA']\n",
    "micrornas = micrornas.transpose()\n",
    "micrornas.index.names = ['CCLE_ID']\n",
    "micrornas = micrornas.loc[(cell_lines.id + '_' + cell_lines.primary_site).values].sort_index()"
   ]
  },
  {
   "cell_type": "markdown",
   "metadata": {},
   "source": [
    "## 3. Data Normalization\n",
    "\n",
    "Perform **quantile normalization** on the gene expression dataset."
   ]
  },
  {
   "cell_type": "code",
   "execution_count": 5,
   "metadata": {},
   "outputs": [],
   "source": [
    "# gene view index\n",
    "df = genes.transpose()\n",
    "\n",
    "# aggregate duplicates\n",
    "df = df.groupby(df.index).mean()\n",
    "\n",
    "# quantile normalization\n",
    "rank_mean = df.stack().groupby(df.rank(method='first').stack().astype(int)).mean()\n",
    "df = df.rank(method='min').stack().astype(int).map(rank_mean).unstack()\n",
    "\n",
    "# sample view index\n",
    "genes = df.transpose()"
   ]
  },
  {
   "cell_type": "markdown",
   "metadata": {},
   "source": [
    "## 4. Genetic Biomarkers"
   ]
  },
  {
   "cell_type": "markdown",
   "metadata": {},
   "source": [
    "### 4.1 Doxorubicin on breast cancer (TOP2A)\n",
    "\n",
    "From a [1997 study by Lynch \\& Holden](https://pubmed.ncbi.nlm.nih.gov/9343325/) we know of a genetic biomarker in breast cancer and that the sensitivity of these cell lines to doxorubicin relate to expression of the target gene *TOP2A*."
   ]
  },
  {
   "cell_type": "code",
   "execution_count": 6,
   "metadata": {},
   "outputs": [
    {
     "data": {
      "text/plain": [
       "<seaborn.axisgrid.FacetGrid at 0x1277dcac0>"
      ]
     },
     "execution_count": 6,
     "metadata": {},
     "output_type": "execute_result"
    },
    {
     "data": {
      "image/png": "[encoded data removed]",
      "text/plain": [
       "<Figure size 360x360 with 1 Axes>"
      ]
     },
     "metadata": {
      "needs_background": "light"
     },
     "output_type": "display_data"
    }
   ],
   "source": [
    "meta = pd.read_csv('../data/drugs.csv')\n",
    "drug = meta[meta.cpd_name == 'doxorubicin']\n",
    "\n",
    "df = drug.set_index(drug.ccl_name + '_' + drug.ccle_primary_site.str.upper())\n",
    "df['TOP2A'] = genes['TOP2A'] # TOP2A DNA topoisomerase II alpha [ Homo sapiens (human) ]\n",
    "\n",
    "sns.lmplot(x=\"TOP2A\", y=\"area_under_curve\", data=df[df.ccle_primary_site == \"breast\"])"
   ]
  },
  {
   "cell_type": "code",
   "execution_count": 7,
   "metadata": {},
   "outputs": [
    {
     "data": {
      "text/html": [
       "<table class=\"simpletable\">\n",
       "<caption>OLS Regression Results</caption>\n",
       "<tr>\n",
       "  <th>Dep. Variable:</th>    <td>area_under_curve</td> <th>  R-squared (uncentered):</th>      <td>   0.661</td>\n",
       "</tr>\n",
       "<tr>\n",
       "  <th>Model:</th>                   <td>OLS</td>       <th>  Adj. R-squared (uncentered):</th> <td>   0.651</td>\n",
       "</tr>\n",
       "<tr>\n",
       "  <th>Method:</th>             <td>Least Squares</td>  <th>  F-statistic:       </th>          <td>   70.10</td>\n",
       "</tr>\n",
       "<tr>\n",
       "  <th>Date:</th>             <td>Sun, 08 May 2022</td> <th>  Prob (F-statistic):</th>          <td>5.70e-10</td>\n",
       "</tr>\n",
       "<tr>\n",
       "  <th>Time:</th>                 <td>12:42:58</td>     <th>  Log-Likelihood:    </th>          <td> -112.95</td>\n",
       "</tr>\n",
       "<tr>\n",
       "  <th>No. Observations:</th>      <td>    37</td>      <th>  AIC:               </th>          <td>   227.9</td>\n",
       "</tr>\n",
       "<tr>\n",
       "  <th>Df Residuals:</th>          <td>    36</td>      <th>  BIC:               </th>          <td>   229.5</td>\n",
       "</tr>\n",
       "<tr>\n",
       "  <th>Df Model:</th>              <td>     1</td>      <th>                     </th>              <td> </td>   \n",
       "</tr>\n",
       "<tr>\n",
       "  <th>Covariance Type:</th>      <td>nonrobust</td>    <th>                     </th>              <td> </td>   \n",
       "</tr>\n",
       "</table>\n",
       "<table class=\"simpletable\">\n",
       "<tr>\n",
       "    <td></td>       <th>coef</th>     <th>std err</th>      <th>t</th>      <th>P>|t|</th>  <th>[0.025</th>    <th>0.975]</th>  \n",
       "</tr>\n",
       "<tr>\n",
       "  <th>TOP2A</th> <td>    0.0773</td> <td>    0.009</td> <td>    8.373</td> <td> 0.000</td> <td>    0.059</td> <td>    0.096</td>\n",
       "</tr>\n",
       "</table>\n",
       "<table class=\"simpletable\">\n",
       "<tr>\n",
       "  <th>Omnibus:</th>       <td> 1.978</td> <th>  Durbin-Watson:     </th> <td>   1.936</td>\n",
       "</tr>\n",
       "<tr>\n",
       "  <th>Prob(Omnibus):</th> <td> 0.372</td> <th>  Jarque-Bera (JB):  </th> <td>   1.839</td>\n",
       "</tr>\n",
       "<tr>\n",
       "  <th>Skew:</th>          <td>-0.503</td> <th>  Prob(JB):          </th> <td>   0.399</td>\n",
       "</tr>\n",
       "<tr>\n",
       "  <th>Kurtosis:</th>      <td> 2.574</td> <th>  Cond. No.          </th> <td>    1.00</td>\n",
       "</tr>\n",
       "</table><br/><br/>Notes:<br/>[1] R² is computed without centering (uncentered) since the model does not contain a constant.<br/>[2] Standard Errors assume that the covariance matrix of the errors is correctly specified."
      ],
      "text/plain": [
       "<class 'statsmodels.iolib.summary.Summary'>\n",
       "\"\"\"\n",
       "                                 OLS Regression Results                                \n",
       "=======================================================================================\n",
       "Dep. Variable:       area_under_curve   R-squared (uncentered):                   0.661\n",
       "Model:                            OLS   Adj. R-squared (uncentered):              0.651\n",
       "Method:                 Least Squares   F-statistic:                              70.10\n",
       "Date:                Sun, 08 May 2022   Prob (F-statistic):                    5.70e-10\n",
       "Time:                        12:42:58   Log-Likelihood:                         -112.95\n",
       "No. Observations:                  37   AIC:                                      227.9\n",
       "Df Residuals:                      36   BIC:                                      229.5\n",
       "Df Model:                           1                                                  \n",
       "Covariance Type:            nonrobust                                                  \n",
       "==============================================================================\n",
       "                 coef    std err          t      P>|t|      [0.025      0.975]\n",
       "------------------------------------------------------------------------------\n",
       "TOP2A          0.0773      0.009      8.373      0.000       0.059       0.096\n",
       "==============================================================================\n",
       "Omnibus:                        1.978   Durbin-Watson:                   1.936\n",
       "Prob(Omnibus):                  0.372   Jarque-Bera (JB):                1.839\n",
       "Skew:                          -0.503   Prob(JB):                        0.399\n",
       "Kurtosis:                       2.574   Cond. No.                         1.00\n",
       "==============================================================================\n",
       "\n",
       "Notes:\n",
       "[1] R² is computed without centering (uncentered) since the model does not contain a constant.\n",
       "[2] Standard Errors assume that the covariance matrix of the errors is correctly specified.\n",
       "\"\"\""
      ]
     },
     "execution_count": 7,
     "metadata": {},
     "output_type": "execute_result"
    }
   ],
   "source": [
    "data = df[df.ccle_primary_site == \"breast\"]\n",
    "\n",
    "lin_model = sm.OLS(data.area_under_curve, data.TOP2A)\n",
    "res = lin_model.fit()\n",
    "\n",
    "res.summary()"
   ]
  },
  {
   "cell_type": "markdown",
   "metadata": {},
   "source": [
    "\"DNA topoisomerase II-alpha is the molecular target of doxorubicin, an active drug used in the therapy of breast cancer. From many in vitro studies, it is known that high levels of topo II-alpha expression correlate with drug sensitivity, and low levels of topo II-alpha correlate with drug resistance.\""
   ]
  },
  {
   "cell_type": "markdown",
   "metadata": {},
   "source": [
    "### 4.2 Dasatinib on non-small cell lung carcinoma (NSCLC)"
   ]
  },
  {
   "cell_type": "code",
   "execution_count": 20,
   "metadata": {},
   "outputs": [
    {
     "data": {
      "text/plain": [
       "<seaborn.axisgrid.FacetGrid at 0x129c09b50>"
      ]
     },
     "execution_count": 20,
     "metadata": {},
     "output_type": "execute_result"
    },
    {
     "data": {
      "image/png": "[encoded data removed]",
      "text/plain": [
       "<Figure size 500x500 with 1 Axes>"
      ]
     },
     "metadata": {},
     "output_type": "display_data"
    }
   ],
   "source": [
    "meta = pd.read_csv('../data/drugs.csv')\n",
    "drug = meta[meta.cpd_name == 'dasatinib']\n",
    "\n",
    "df = drug.set_index(drug.ccl_name + '_' + drug.ccle_primary_site.str.upper())\n",
    "df['LIMK1'] = genes['LIMK1'] # LIMK1 LIM Domain Kinase 1 [ Homo sapiens (human) ]\n",
    "\n",
    "sns.lmplot(x=\"LIMK1\", y=\"area_under_curve\", data=df[(df.ccle_primary_site == \"lung\") & ((df.ccle_hist_subtype_1 == \"non_small_cell_carcinoma\"))])"
   ]
  },
  {
   "cell_type": "code",
   "execution_count": 26,
   "metadata": {},
   "outputs": [
    {
     "data": {
      "text/html": [
       "<table class=\"simpletable\">\n",
       "<caption>OLS Regression Results</caption>\n",
       "<tr>\n",
       "  <th>Dep. Variable:</th>    <td>area_under_curve</td> <th>  R-squared (uncentered):</th>      <td>   0.545</td>\n",
       "</tr>\n",
       "<tr>\n",
       "  <th>Model:</th>                   <td>OLS</td>       <th>  Adj. R-squared (uncentered):</th> <td>   0.525</td>\n",
       "</tr>\n",
       "<tr>\n",
       "  <th>Method:</th>             <td>Least Squares</td>  <th>  F-statistic:       </th>          <td>   27.50</td>\n",
       "</tr>\n",
       "<tr>\n",
       "  <th>Date:</th>             <td>Sun, 08 May 2022</td> <th>  Prob (F-statistic):</th>          <td>2.55e-05</td>\n",
       "</tr>\n",
       "<tr>\n",
       "  <th>Time:</th>                 <td>14:21:33</td>     <th>  Log-Likelihood:    </th>          <td> -79.578</td>\n",
       "</tr>\n",
       "<tr>\n",
       "  <th>No. Observations:</th>      <td>    24</td>      <th>  AIC:               </th>          <td>   161.2</td>\n",
       "</tr>\n",
       "<tr>\n",
       "  <th>Df Residuals:</th>          <td>    23</td>      <th>  BIC:               </th>          <td>   162.3</td>\n",
       "</tr>\n",
       "<tr>\n",
       "  <th>Df Model:</th>              <td>     1</td>      <th>                     </th>              <td> </td>   \n",
       "</tr>\n",
       "<tr>\n",
       "  <th>Covariance Type:</th>      <td>nonrobust</td>    <th>                     </th>              <td> </td>   \n",
       "</tr>\n",
       "</table>\n",
       "<table class=\"simpletable\">\n",
       "<tr>\n",
       "    <td></td>       <th>coef</th>     <th>std err</th>      <th>t</th>      <th>P>|t|</th>  <th>[0.025</th>    <th>0.975]</th>  \n",
       "</tr>\n",
       "<tr>\n",
       "  <th>LIMK1</th> <td>    0.2219</td> <td>    0.042</td> <td>    5.244</td> <td> 0.000</td> <td>    0.134</td> <td>    0.309</td>\n",
       "</tr>\n",
       "</table>\n",
       "<table class=\"simpletable\">\n",
       "<tr>\n",
       "  <th>Omnibus:</th>       <td> 4.588</td> <th>  Durbin-Watson:     </th> <td>   1.206</td>\n",
       "</tr>\n",
       "<tr>\n",
       "  <th>Prob(Omnibus):</th> <td> 0.101</td> <th>  Jarque-Bera (JB):  </th> <td>   3.567</td>\n",
       "</tr>\n",
       "<tr>\n",
       "  <th>Skew:</th>          <td>-0.944</td> <th>  Prob(JB):          </th> <td>   0.168</td>\n",
       "</tr>\n",
       "<tr>\n",
       "  <th>Kurtosis:</th>      <td> 2.949</td> <th>  Cond. No.          </th> <td>    1.00</td>\n",
       "</tr>\n",
       "</table><br/><br/>Notes:<br/>[1] R² is computed without centering (uncentered) since the model does not contain a constant.<br/>[2] Standard Errors assume that the covariance matrix of the errors is correctly specified."
      ],
      "text/plain": [
       "<class 'statsmodels.iolib.summary.Summary'>\n",
       "\"\"\"\n",
       "                                 OLS Regression Results                                \n",
       "=======================================================================================\n",
       "Dep. Variable:       area_under_curve   R-squared (uncentered):                   0.545\n",
       "Model:                            OLS   Adj. R-squared (uncentered):              0.525\n",
       "Method:                 Least Squares   F-statistic:                              27.50\n",
       "Date:                Sun, 08 May 2022   Prob (F-statistic):                    2.55e-05\n",
       "Time:                        14:21:33   Log-Likelihood:                         -79.578\n",
       "No. Observations:                  24   AIC:                                      161.2\n",
       "Df Residuals:                      23   BIC:                                      162.3\n",
       "Df Model:                           1                                                  \n",
       "Covariance Type:            nonrobust                                                  \n",
       "==============================================================================\n",
       "                 coef    std err          t      P>|t|      [0.025      0.975]\n",
       "------------------------------------------------------------------------------\n",
       "LIMK1          0.2219      0.042      5.244      0.000       0.134       0.309\n",
       "==============================================================================\n",
       "Omnibus:                        4.588   Durbin-Watson:                   1.206\n",
       "Prob(Omnibus):                  0.101   Jarque-Bera (JB):                3.567\n",
       "Skew:                          -0.944   Prob(JB):                        0.168\n",
       "Kurtosis:                       2.949   Cond. No.                         1.00\n",
       "==============================================================================\n",
       "\n",
       "Notes:\n",
       "[1] R² is computed without centering (uncentered) since the model does not contain a constant.\n",
       "[2] Standard Errors assume that the covariance matrix of the errors is correctly specified.\n",
       "\"\"\""
      ]
     },
     "execution_count": 26,
     "metadata": {},
     "output_type": "execute_result"
    }
   ],
   "source": [
    "data = df[(df.ccle_primary_site == \"lung\") & (df.ccle_hist_subtype_1 == \"non_small_cell_carcinoma\")]\n",
    "data = data.dropna()\n",
    "\n",
    "lin_model = sm.OLS(data.area_under_curve, data.LIMK1)\n",
    "res = lin_model.fit()\n",
    "\n",
    "res.summary()"
   ]
  },
  {
   "cell_type": "markdown",
   "metadata": {},
   "source": [
    "https://www.frontiersin.org/articles/10.3389/fcell.2020.556532/full\n",
    "\n",
    "\"Altogether, we unveil that the inhibitory activities of dasatinib against lung cancer cells are realized by regulating LIMK1 activity directly and LIMK1/cofilin signaling pathway. [...] shows the prospective translational potential of dasatinib for patients with lung cancer who were accompanied with high expression of LIMK1\""
   ]
  },
  {
   "cell_type": "markdown",
   "metadata": {},
   "source": [
    "## 5. Export Datasets\n",
    "\n",
    "Export the cleaned multi-omics datasets. All tables need to have the same dimension $(m \\times n)$ for graph-based data integration methods to work."
   ]
  },
  {
   "cell_type": "code",
   "execution_count": 8,
   "metadata": {},
   "outputs": [],
   "source": [
    "cell_lines.to_csv('../data/cells.csv', index=False)\n",
    "genes.to_csv('../data/omics/genes.csv')\n",
    "metabolites.to_csv('../data/omics/metabolites.csv')\n",
    "micrornas.to_csv('../data/omics/mirnas.csv')"
   ]
  },
  {
   "cell_type": "markdown",
   "metadata": {},
   "source": []
  }
 ],
 "metadata": {
  "interpreter": {
   "hash": "4d4ba58b917c7d30564c2e99a03a91f7bc7a9a2f652ff8e9bb48f5fbcaeb40b6"
  },
  "kernelspec": {
   "display_name": "Python 3.9.12 ('thesis')",
   "language": "python",
   "name": "python3"
  },
  "language_info": {
   "codemirror_mode": {
    "name": "ipython",
    "version": 3
   },
   "file_extension": ".py",
   "mimetype": "text/x-python",
   "name": "python",
   "nbconvert_exporter": "python",
   "pygments_lexer": "ipython3",
   "version": "3.9.12"
  },
  "orig_nbformat": 4
 },
 "nbformat": 4,
 "nbformat_minor": 2
}
